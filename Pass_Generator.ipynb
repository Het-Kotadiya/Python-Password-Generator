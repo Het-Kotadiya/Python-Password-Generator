{
 "cells": [
  {
   "cell_type": "code",
   "execution_count": 1,
   "id": "c78f0e9f-f986-408c-9bcf-07f6b6f7ca66",
   "metadata": {},
   "outputs": [
    {
     "name": "stdin",
     "output_type": "stream",
     "text": [
      "Enter the desired password length:  12\n"
     ]
    },
    {
     "name": "stdout",
     "output_type": "stream",
     "text": [
      "Your Password is: {:>6poyL5R4h\n",
      "The password has been copied to your clipboard.\n",
      "Strong Password\n"
     ]
    },
    {
     "name": "stdin",
     "output_type": "stream",
     "text": [
      "Do you want to save this password? (y/n):  y\n"
     ]
    },
    {
     "name": "stdout",
     "output_type": "stream",
     "text": [
      "The password has been saved to generated_password.txt.\n"
     ]
    }
   ],
   "source": [
    "import random as rd\n",
    "import string as st\n",
    "import pyperclip as pc\n",
    "\n",
    "def get_password_length():\n",
    "    \"\"\"Prompt the user for a valid password length and return it.\"\"\"\n",
    "    while True:\n",
    "        try:\n",
    "            pass_length = int(input('Enter the desired password length: '))\n",
    "            if pass_length < 9:\n",
    "                print('Minimum Password Length should be 9 characters')\n",
    "            else:\n",
    "                return pass_length\n",
    "        except ValueError:\n",
    "            print('Please enter a valid integer for the password length')\n",
    "\n",
    "def generate_password(pass_length):\n",
    "    \"\"\"Generate a password with at least one lowercase, uppercase, digit, and special character.\"\"\"\n",
    "    # Possible password characters \n",
    "    lowercase = list(st.ascii_lowercase)\n",
    "    uppercase = list(st.ascii_uppercase)\n",
    "    digits = list(st.digits)\n",
    "    special_char = list(st.punctuation)\n",
    "\n",
    "    # Ensuring 1 char from each set\n",
    "    password = [rd.choice(lowercase), rd.choice(uppercase), rd.choice(digits), rd.choice(special_char)]\n",
    "\n",
    "    # All set combined\n",
    "    all_set = lowercase + uppercase + digits + special_char\n",
    "\n",
    "    # Setting remaining pass characters\n",
    "    for i in range(pass_length - 4):\n",
    "        password.append(rd.choice(all_set))\n",
    "\n",
    "    rd.shuffle(password)  # Shuffle to randomize\n",
    "    final_password = ''.join(password)\n",
    "    \n",
    "    return final_password\n",
    "\n",
    "def copy_to_clipboard(password):\n",
    "    \"\"\"Copy the generated password to the clipboard.\"\"\"\n",
    "    try:\n",
    "        pc.copy(password)\n",
    "        print('The password has been copied to your clipboard.')\n",
    "    except pc.PyperclipException:\n",
    "        print('Failed to copy the password to clipboard. Please copy it manually.')\n",
    "\n",
    "\n",
    "def check_password_strength(password):\n",
    "    \"\"\"Check the strength of the generated password.\"\"\"\n",
    "    lowercase = list(st.ascii_lowercase)\n",
    "    uppercase = list(st.ascii_uppercase)\n",
    "    digits = list(st.digits)\n",
    "    special_char = list(st.punctuation)\n",
    "\n",
    "    # Efficient Password Strength Check using Sets\n",
    "    password_set = set(password)\n",
    "\n",
    "    has_lower = password_set.intersection(lowercase)\n",
    "    has_upper = password_set.intersection(uppercase)\n",
    "    has_digit = password_set.intersection(digits)\n",
    "    has_special = password_set.intersection(special_char)\n",
    "\n",
    "    if len(password) >= 12 and has_digit and has_lower and has_upper and has_special:\n",
    "        return 'Strong Password'\n",
    "    elif len(password) >= 9 and (has_lower or has_upper) and has_digit:\n",
    "        return 'Medium Password'\n",
    "    else:\n",
    "        return 'Weak Password'\n",
    "\n",
    "def save_password(password):\n",
    "    \"\"\"Save the generated password in the text file\"\"\"\n",
    "    with open('generated_password.txt', 'a') as file:\n",
    "        file.write(password + '\\n')\n",
    "        print('The password has been saved to generated_password.txt.')\n",
    "    \n",
    "\n",
    "if __name__ == \"__main__\":\n",
    "    \"\"\"Main function to run the password generator program.\"\"\"\n",
    "    pass_length = get_password_length()\n",
    "    final_password = generate_password(pass_length)\n",
    "    \n",
    "    print(f'Your Password is: {final_password}')\n",
    "    \n",
    "    copy_to_clipboard(final_password)\n",
    "    \n",
    "    password_strength = check_password_strength(final_password)\n",
    "    print(password_strength)\n",
    "    \n",
    "    save_option = input('Do you want to save this password? (y/n): ').lower()\n",
    "    if save_option == 'y':\n",
    "        save_password(final_password)"
   ]
  },
  {
   "cell_type": "code",
   "execution_count": null,
   "id": "2a1c4a29-3274-4fac-830c-dc545176e2cd",
   "metadata": {},
   "outputs": [],
   "source": []
  }
 ],
 "metadata": {
  "kernelspec": {
   "display_name": "Python 3 (ipykernel)",
   "language": "python",
   "name": "python3"
  },
  "language_info": {
   "codemirror_mode": {
    "name": "ipython",
    "version": 3
   },
   "file_extension": ".py",
   "mimetype": "text/x-python",
   "name": "python",
   "nbconvert_exporter": "python",
   "pygments_lexer": "ipython3",
   "version": "3.11.7"
  }
 },
 "nbformat": 4,
 "nbformat_minor": 5
}
